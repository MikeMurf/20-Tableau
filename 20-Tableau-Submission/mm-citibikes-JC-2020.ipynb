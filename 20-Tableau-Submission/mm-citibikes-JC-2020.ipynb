{
 "cells": [
  {
   "cell_type": "code",
   "execution_count": 1,
   "id": "fc34539e",
   "metadata": {},
   "outputs": [],
   "source": [
    "#   Citibikes data cleansing based on Clif Kranish tutorial\n",
    "#   Import dependencies\n",
    "import os\n",
    "import glob\n",
    "import pandas as pd\n",
    "import seaborn as sns\n",
    "import matplotlib.pyplot as plt\n",
    "import numpy as np\n",
    "import datetime\n"
   ]
  },
  {
   "cell_type": "code",
   "execution_count": 2,
   "id": "8123040a",
   "metadata": {},
   "outputs": [
    {
     "name": "stdout",
     "output_type": "stream",
     "text": [
      "2022-04-05 16:15:59.505007\n"
     ]
    }
   ],
   "source": [
    "#    Print start time\n",
    "print(datetime.datetime.now())\n"
   ]
  },
  {
   "cell_type": "code",
   "execution_count": 3,
   "id": "717885ed",
   "metadata": {},
   "outputs": [
    {
     "data": {
      "text/plain": [
       "['JC-202001-citibike-tripdata.csv',\n",
       " 'JC-202002-citibike-tripdata.csv',\n",
       " 'JC-202003-citibike-tripdata.csv',\n",
       " 'JC-202004-citibike-tripdata.csv',\n",
       " 'JC-202005-citibike-tripdata.csv',\n",
       " 'JC-202006-citibike-tripdata.csv',\n",
       " 'JC-202007-citibike-tripdata.csv',\n",
       " 'JC-202008-citibike-tripdata.csv',\n",
       " 'JC-202009-citibike-tripdata.csv',\n",
       " 'JC-202010-citibike-tripdata.csv',\n",
       " 'JC-202011-citibike-tripdata.csv',\n",
       " 'JC-202012-citibike-tripdata.csv']"
      ]
     },
     "execution_count": 3,
     "metadata": {},
     "output_type": "execute_result"
    }
   ],
   "source": [
    "# Match the pattern (‘csv’) and save the list of file names in the ‘all_filenames’ variable.\n",
    "extension = 'csv'\n",
    "all_filenames = [i for i in glob.glob('*.{}'.format(extension))]\n",
    "all_filenames\n"
   ]
  },
  {
   "cell_type": "code",
   "execution_count": 4,
   "id": "2d1958af",
   "metadata": {},
   "outputs": [
    {
     "data": {
      "text/plain": [
       "tripduration                 int64\n",
       "starttime                   object\n",
       "stoptime                    object\n",
       "start station id             int64\n",
       "start station name          object\n",
       "start station latitude     float64\n",
       "start station longitude    float64\n",
       "end station id               int64\n",
       "end station name            object\n",
       "end station latitude       float64\n",
       "end station longitude      float64\n",
       "bikeid                       int64\n",
       "usertype                    object\n",
       "birth year                   int64\n",
       "gender                       int64\n",
       "dtype: object"
      ]
     },
     "execution_count": 4,
     "metadata": {},
     "output_type": "execute_result"
    }
   ],
   "source": [
    "#   Combine all files in the list\n",
    "combined_csv = pd.concat([pd.read_csv(f) for f in all_filenames ])\n",
    "#export to csv\n",
    "combined_csv.to_csv( \"combined_csv.csv\", index=False)\n",
    "combined_csv.dtypes\n"
   ]
  },
  {
   "cell_type": "code",
   "execution_count": 5,
   "id": "233a774f",
   "metadata": {},
   "outputs": [
    {
     "data": {
      "text/plain": [
       "<bound method NDFrame.head of         tripduration                 starttime                  stoptime  \\\n",
       "0                226  2020-01-01 00:04:50.1920  2020-01-01 00:08:37.0370   \n",
       "1                377  2020-01-01 00:16:01.6700  2020-01-01 00:22:19.0800   \n",
       "2                288  2020-01-01 00:17:33.8770  2020-01-01 00:22:22.4420   \n",
       "3                435  2020-01-01 00:32:05.9020  2020-01-01 00:39:21.0660   \n",
       "4                231  2020-01-01 00:46:19.6780  2020-01-01 00:50:11.3440   \n",
       "...              ...                       ...                       ...   \n",
       "336797          1750  2020-12-31 23:07:44.0030  2020-12-31 23:36:54.4710   \n",
       "336798          1519  2020-12-31 23:18:00.2630  2020-12-31 23:43:19.8590   \n",
       "336799          1761  2020-12-31 23:31:09.4620  2021-01-01 00:00:31.3290   \n",
       "336800           637  2020-12-31 23:35:45.4640  2020-12-31 23:46:22.7300   \n",
       "336801          1607  2020-12-31 23:48:34.5750  2021-01-01 00:15:22.3090   \n",
       "\n",
       "        start station id start station name  start station latitude  \\\n",
       "0                   3186      Grove St PATH               40.719586   \n",
       "1                   3186      Grove St PATH               40.719586   \n",
       "2                   3186      Grove St PATH               40.719586   \n",
       "3                   3195            Sip Ave               40.730897   \n",
       "4                   3186      Grove St PATH               40.719586   \n",
       "...                  ...                ...                     ...   \n",
       "336797              3199       Newport Pkwy               40.728745   \n",
       "336798              3184        Paulus Hook               40.714145   \n",
       "336799              3195            Sip Ave               40.730897   \n",
       "336800              3681           Grand St               40.715178   \n",
       "336801              3267       Morris Canal               40.712419   \n",
       "\n",
       "        start station longitude  end station id  end station name  \\\n",
       "0                    -74.043117            3211        Newark Ave   \n",
       "1                    -74.043117            3269   Brunswick & 6th   \n",
       "2                    -74.043117            3269   Brunswick & 6th   \n",
       "3                    -74.063913            3280       Astor Place   \n",
       "4                    -74.043117            3276  Marin Light Rail   \n",
       "...                         ...             ...               ...   \n",
       "336797               -74.032108            3199      Newport Pkwy   \n",
       "336798               -74.033552            3195           Sip Ave   \n",
       "336799               -74.063913            3270   Jersey & 6th St   \n",
       "336800               -74.037683            3199      Newport Pkwy   \n",
       "336801               -74.038526            3267      Morris Canal   \n",
       "\n",
       "        end station latitude  end station longitude  bikeid    usertype  \\\n",
       "0                  40.721525             -74.046305   29444  Subscriber   \n",
       "1                  40.726012             -74.050389   26305  Subscriber   \n",
       "2                  40.726012             -74.050389   29268    Customer   \n",
       "3                  40.719282             -74.071262   29278    Customer   \n",
       "4                  40.714584             -74.042817   29276  Subscriber   \n",
       "...                      ...                    ...     ...         ...   \n",
       "336797             40.728745             -74.032108   40440    Customer   \n",
       "336798             40.730897             -74.063913   46340    Customer   \n",
       "336799             40.725289             -74.045572   40907    Customer   \n",
       "336800             40.728745             -74.032108   42250    Customer   \n",
       "336801             40.712419             -74.038526   48742  Subscriber   \n",
       "\n",
       "        birth year  gender  \n",
       "0             1984       2  \n",
       "1             1989       2  \n",
       "2             1989       1  \n",
       "3             1969       0  \n",
       "4             1983       2  \n",
       "...            ...     ...  \n",
       "336797        1969       0  \n",
       "336798        1969       0  \n",
       "336799        1998       1  \n",
       "336800        1969       0  \n",
       "336801        1982       1  \n",
       "\n",
       "[336802 rows x 15 columns]>"
      ]
     },
     "execution_count": 5,
     "metadata": {},
     "output_type": "execute_result"
    }
   ],
   "source": [
    "#   Load csv file to analyse\n",
    "df = pd.read_csv('combined_csv.csv')\n",
    "df.head\n"
   ]
  },
  {
   "cell_type": "code",
   "execution_count": 6,
   "id": "ec0fec55",
   "metadata": {},
   "outputs": [
    {
     "name": "stdout",
     "output_type": "stream",
     "text": [
      "<class 'pandas.core.frame.DataFrame'>\n",
      "RangeIndex: 336802 entries, 0 to 336801\n",
      "Data columns (total 15 columns):\n",
      " #   Column                   Non-Null Count   Dtype  \n",
      "---  ------                   --------------   -----  \n",
      " 0   tripduration             336802 non-null  int64  \n",
      " 1   starttime                336802 non-null  object \n",
      " 2   stoptime                 336802 non-null  object \n",
      " 3   start station id         336802 non-null  int64  \n",
      " 4   start station name       336802 non-null  object \n",
      " 5   start station latitude   336802 non-null  float64\n",
      " 6   start station longitude  336802 non-null  float64\n",
      " 7   end station id           336802 non-null  int64  \n",
      " 8   end station name         336802 non-null  object \n",
      " 9   end station latitude     336802 non-null  float64\n",
      " 10  end station longitude    336802 non-null  float64\n",
      " 11  bikeid                   336802 non-null  int64  \n",
      " 12  usertype                 336802 non-null  object \n",
      " 13  birth year               336802 non-null  int64  \n",
      " 14  gender                   336802 non-null  int64  \n",
      "dtypes: float64(4), int64(6), object(5)\n",
      "memory usage: 38.5+ MB\n"
     ]
    }
   ],
   "source": [
    "#   Get the info for the dataframe to confirm that what we have is complete and consistent\n",
    "df.info()\n"
   ]
  },
  {
   "cell_type": "code",
   "execution_count": 7,
   "id": "d7f8b613",
   "metadata": {},
   "outputs": [
    {
     "data": {
      "text/html": [
       "<div>\n",
       "<style scoped>\n",
       "    .dataframe tbody tr th:only-of-type {\n",
       "        vertical-align: middle;\n",
       "    }\n",
       "\n",
       "    .dataframe tbody tr th {\n",
       "        vertical-align: top;\n",
       "    }\n",
       "\n",
       "    .dataframe thead th {\n",
       "        text-align: right;\n",
       "    }\n",
       "</style>\n",
       "<table border=\"1\" class=\"dataframe\">\n",
       "  <thead>\n",
       "    <tr style=\"text-align: right;\">\n",
       "      <th></th>\n",
       "      <th>tripduration</th>\n",
       "      <th>start station id</th>\n",
       "      <th>start station latitude</th>\n",
       "      <th>start station longitude</th>\n",
       "      <th>end station id</th>\n",
       "      <th>end station latitude</th>\n",
       "      <th>end station longitude</th>\n",
       "      <th>bikeid</th>\n",
       "      <th>birth year</th>\n",
       "      <th>gender</th>\n",
       "    </tr>\n",
       "  </thead>\n",
       "  <tbody>\n",
       "    <tr>\n",
       "      <th>count</th>\n",
       "      <td>336802.00</td>\n",
       "      <td>336802.00</td>\n",
       "      <td>336802.00</td>\n",
       "      <td>336802.00</td>\n",
       "      <td>336802.00</td>\n",
       "      <td>336802.00</td>\n",
       "      <td>336802.00</td>\n",
       "      <td>336802.00</td>\n",
       "      <td>336802.00</td>\n",
       "      <td>336802.00</td>\n",
       "    </tr>\n",
       "    <tr>\n",
       "      <th>mean</th>\n",
       "      <td>1574.70</td>\n",
       "      <td>3304.14</td>\n",
       "      <td>40.72</td>\n",
       "      <td>-74.05</td>\n",
       "      <td>3302.78</td>\n",
       "      <td>40.72</td>\n",
       "      <td>-74.05</td>\n",
       "      <td>40637.77</td>\n",
       "      <td>1981.30</td>\n",
       "      <td>1.10</td>\n",
       "    </tr>\n",
       "    <tr>\n",
       "      <th>std</th>\n",
       "      <td>18024.77</td>\n",
       "      <td>184.60</td>\n",
       "      <td>0.01</td>\n",
       "      <td>0.01</td>\n",
       "      <td>190.11</td>\n",
       "      <td>0.10</td>\n",
       "      <td>0.18</td>\n",
       "      <td>6069.50</td>\n",
       "      <td>11.05</td>\n",
       "      <td>0.63</td>\n",
       "    </tr>\n",
       "    <tr>\n",
       "      <th>min</th>\n",
       "      <td>61.00</td>\n",
       "      <td>3184.00</td>\n",
       "      <td>40.71</td>\n",
       "      <td>-74.08</td>\n",
       "      <td>82.00</td>\n",
       "      <td>0.00</td>\n",
       "      <td>-74.08</td>\n",
       "      <td>14531.00</td>\n",
       "      <td>1888.00</td>\n",
       "      <td>0.00</td>\n",
       "    </tr>\n",
       "    <tr>\n",
       "      <th>25%</th>\n",
       "      <td>326.00</td>\n",
       "      <td>3195.00</td>\n",
       "      <td>40.72</td>\n",
       "      <td>-74.05</td>\n",
       "      <td>3195.00</td>\n",
       "      <td>40.72</td>\n",
       "      <td>-74.05</td>\n",
       "      <td>42141.00</td>\n",
       "      <td>1969.00</td>\n",
       "      <td>1.00</td>\n",
       "    </tr>\n",
       "    <tr>\n",
       "      <th>50%</th>\n",
       "      <td>615.00</td>\n",
       "      <td>3209.00</td>\n",
       "      <td>40.72</td>\n",
       "      <td>-74.04</td>\n",
       "      <td>3209.00</td>\n",
       "      <td>40.72</td>\n",
       "      <td>-74.04</td>\n",
       "      <td>42373.00</td>\n",
       "      <td>1984.00</td>\n",
       "      <td>1.00</td>\n",
       "    </tr>\n",
       "    <tr>\n",
       "      <th>75%</th>\n",
       "      <td>1416.00</td>\n",
       "      <td>3276.00</td>\n",
       "      <td>40.73</td>\n",
       "      <td>-74.04</td>\n",
       "      <td>3276.00</td>\n",
       "      <td>40.73</td>\n",
       "      <td>-74.04</td>\n",
       "      <td>43543.00</td>\n",
       "      <td>1990.00</td>\n",
       "      <td>2.00</td>\n",
       "    </tr>\n",
       "    <tr>\n",
       "      <th>max</th>\n",
       "      <td>3261756.00</td>\n",
       "      <td>3792.00</td>\n",
       "      <td>40.75</td>\n",
       "      <td>-74.03</td>\n",
       "      <td>4071.00</td>\n",
       "      <td>40.85</td>\n",
       "      <td>0.00</td>\n",
       "      <td>49734.00</td>\n",
       "      <td>2004.00</td>\n",
       "      <td>2.00</td>\n",
       "    </tr>\n",
       "  </tbody>\n",
       "</table>\n",
       "</div>"
      ],
      "text/plain": [
       "       tripduration  start station id  start station latitude  \\\n",
       "count     336802.00         336802.00               336802.00   \n",
       "mean        1574.70           3304.14                   40.72   \n",
       "std        18024.77            184.60                    0.01   \n",
       "min           61.00           3184.00                   40.71   \n",
       "25%          326.00           3195.00                   40.72   \n",
       "50%          615.00           3209.00                   40.72   \n",
       "75%         1416.00           3276.00                   40.73   \n",
       "max      3261756.00           3792.00                   40.75   \n",
       "\n",
       "       start station longitude  end station id  end station latitude  \\\n",
       "count                336802.00       336802.00             336802.00   \n",
       "mean                    -74.05         3302.78                 40.72   \n",
       "std                       0.01          190.11                  0.10   \n",
       "min                     -74.08           82.00                  0.00   \n",
       "25%                     -74.05         3195.00                 40.72   \n",
       "50%                     -74.04         3209.00                 40.72   \n",
       "75%                     -74.04         3276.00                 40.73   \n",
       "max                     -74.03         4071.00                 40.85   \n",
       "\n",
       "       end station longitude     bikeid  birth year     gender  \n",
       "count              336802.00  336802.00   336802.00  336802.00  \n",
       "mean                  -74.05   40637.77     1981.30       1.10  \n",
       "std                     0.18    6069.50       11.05       0.63  \n",
       "min                   -74.08   14531.00     1888.00       0.00  \n",
       "25%                   -74.05   42141.00     1969.00       1.00  \n",
       "50%                   -74.04   42373.00     1984.00       1.00  \n",
       "75%                   -74.04   43543.00     1990.00       2.00  \n",
       "max                     0.00   49734.00     2004.00       2.00  "
      ]
     },
     "execution_count": 7,
     "metadata": {},
     "output_type": "execute_result"
    }
   ],
   "source": [
    "#   Simplfy the scientific notation for the numeric data\n",
    "df.describe().round(2)\n"
   ]
  },
  {
   "cell_type": "code",
   "execution_count": 8,
   "id": "6c740056",
   "metadata": {},
   "outputs": [
    {
     "data": {
      "text/html": [
       "<div>\n",
       "<style scoped>\n",
       "    .dataframe tbody tr th:only-of-type {\n",
       "        vertical-align: middle;\n",
       "    }\n",
       "\n",
       "    .dataframe tbody tr th {\n",
       "        vertical-align: top;\n",
       "    }\n",
       "\n",
       "    .dataframe thead th {\n",
       "        text-align: right;\n",
       "    }\n",
       "</style>\n",
       "<table border=\"1\" class=\"dataframe\">\n",
       "  <thead>\n",
       "    <tr style=\"text-align: right;\">\n",
       "      <th></th>\n",
       "      <th>Column Name</th>\n",
       "      <th>Unique</th>\n",
       "      <th>Data Type</th>\n",
       "      <th>Memory Usage</th>\n",
       "    </tr>\n",
       "  </thead>\n",
       "  <tbody>\n",
       "    <tr>\n",
       "      <th>0</th>\n",
       "      <td>tripduration</td>\n",
       "      <td>10874</td>\n",
       "      <td>int64</td>\n",
       "      <td>2694544</td>\n",
       "    </tr>\n",
       "    <tr>\n",
       "      <th>1</th>\n",
       "      <td>starttime</td>\n",
       "      <td>323351</td>\n",
       "      <td>object</td>\n",
       "      <td>27281090</td>\n",
       "    </tr>\n",
       "    <tr>\n",
       "      <th>2</th>\n",
       "      <td>stoptime</td>\n",
       "      <td>323348</td>\n",
       "      <td>object</td>\n",
       "      <td>27281090</td>\n",
       "    </tr>\n",
       "    <tr>\n",
       "      <th>3</th>\n",
       "      <td>start station id</td>\n",
       "      <td>52</td>\n",
       "      <td>int64</td>\n",
       "      <td>2694544</td>\n",
       "    </tr>\n",
       "    <tr>\n",
       "      <th>4</th>\n",
       "      <td>start station name</td>\n",
       "      <td>52</td>\n",
       "      <td>object</td>\n",
       "      <td>23718568</td>\n",
       "    </tr>\n",
       "    <tr>\n",
       "      <th>5</th>\n",
       "      <td>start station latitude</td>\n",
       "      <td>52</td>\n",
       "      <td>float64</td>\n",
       "      <td>2694544</td>\n",
       "    </tr>\n",
       "    <tr>\n",
       "      <th>6</th>\n",
       "      <td>start station longitude</td>\n",
       "      <td>52</td>\n",
       "      <td>float64</td>\n",
       "      <td>2694544</td>\n",
       "    </tr>\n",
       "    <tr>\n",
       "      <th>7</th>\n",
       "      <td>end station id</td>\n",
       "      <td>131</td>\n",
       "      <td>int64</td>\n",
       "      <td>2694544</td>\n",
       "    </tr>\n",
       "    <tr>\n",
       "      <th>8</th>\n",
       "      <td>end station name</td>\n",
       "      <td>131</td>\n",
       "      <td>object</td>\n",
       "      <td>23728093</td>\n",
       "    </tr>\n",
       "    <tr>\n",
       "      <th>9</th>\n",
       "      <td>end station latitude</td>\n",
       "      <td>131</td>\n",
       "      <td>float64</td>\n",
       "      <td>2694544</td>\n",
       "    </tr>\n",
       "    <tr>\n",
       "      <th>10</th>\n",
       "      <td>end station longitude</td>\n",
       "      <td>131</td>\n",
       "      <td>float64</td>\n",
       "      <td>2694544</td>\n",
       "    </tr>\n",
       "    <tr>\n",
       "      <th>11</th>\n",
       "      <td>bikeid</td>\n",
       "      <td>1846</td>\n",
       "      <td>int64</td>\n",
       "      <td>2694544</td>\n",
       "    </tr>\n",
       "    <tr>\n",
       "      <th>12</th>\n",
       "      <td>usertype</td>\n",
       "      <td>2</td>\n",
       "      <td>object</td>\n",
       "      <td>22355320</td>\n",
       "    </tr>\n",
       "    <tr>\n",
       "      <th>13</th>\n",
       "      <td>birth year</td>\n",
       "      <td>70</td>\n",
       "      <td>int64</td>\n",
       "      <td>2694544</td>\n",
       "    </tr>\n",
       "    <tr>\n",
       "      <th>14</th>\n",
       "      <td>gender</td>\n",
       "      <td>3</td>\n",
       "      <td>int64</td>\n",
       "      <td>2694544</td>\n",
       "    </tr>\n",
       "  </tbody>\n",
       "</table>\n",
       "</div>"
      ],
      "text/plain": [
       "                Column Name  Unique Data Type  Memory Usage\n",
       "0              tripduration   10874     int64       2694544\n",
       "1                 starttime  323351    object      27281090\n",
       "2                  stoptime  323348    object      27281090\n",
       "3          start station id      52     int64       2694544\n",
       "4        start station name      52    object      23718568\n",
       "5    start station latitude      52   float64       2694544\n",
       "6   start station longitude      52   float64       2694544\n",
       "7            end station id     131     int64       2694544\n",
       "8          end station name     131    object      23728093\n",
       "9      end station latitude     131   float64       2694544\n",
       "10    end station longitude     131   float64       2694544\n",
       "11                   bikeid    1846     int64       2694544\n",
       "12                 usertype       2    object      22355320\n",
       "13               birth year      70     int64       2694544\n",
       "14                   gender       3     int64       2694544"
      ]
     },
     "execution_count": 8,
     "metadata": {},
     "output_type": "execute_result"
    }
   ],
   "source": [
    "#   Minimise the memory usage to cater for very large files\n",
    "pd.DataFrame.from_records([(col, df[col].nunique(), df[col].dtype,\n",
    "df[col].memory_usage(deep=True) ) for col in df.columns],\n",
    "columns=['Column Name', 'Unique', 'Data Type','Memory Usage'])\n"
   ]
  },
  {
   "cell_type": "code",
   "execution_count": 9,
   "id": "d03aa230",
   "metadata": {},
   "outputs": [],
   "source": [
    "#   Convert \"start\" and \"end\" times to timestamp format\n",
    "df['starttime'] = pd.to_datetime(df['starttime'])\n",
    "df['stoptime'] = pd.to_datetime(df['stoptime'])\n"
   ]
  },
  {
   "cell_type": "code",
   "execution_count": 10,
   "id": "dcc0f009",
   "metadata": {},
   "outputs": [],
   "source": [
    "#   Reduce the amount of memory used for some of the other columns by using the category data type\n",
    "cols = ['start station name', 'end station name', 'usertype', 'gender']\n",
    "for col in cols:\n",
    "    df[col] = df[col].astype('category')\n",
    "    "
   ]
  },
  {
   "cell_type": "code",
   "execution_count": 11,
   "id": "b36ce20c",
   "metadata": {},
   "outputs": [],
   "source": [
    "#   \n",
    "df['bikeid'] = df['bikeid'].astype('category')\n"
   ]
  },
  {
   "cell_type": "code",
   "execution_count": 12,
   "id": "c5cf0b3d",
   "metadata": {},
   "outputs": [
    {
     "data": {
      "text/html": [
       "<div>\n",
       "<style scoped>\n",
       "    .dataframe tbody tr th:only-of-type {\n",
       "        vertical-align: middle;\n",
       "    }\n",
       "\n",
       "    .dataframe tbody tr th {\n",
       "        vertical-align: top;\n",
       "    }\n",
       "\n",
       "    .dataframe thead th {\n",
       "        text-align: right;\n",
       "    }\n",
       "</style>\n",
       "<table border=\"1\" class=\"dataframe\">\n",
       "  <thead>\n",
       "    <tr style=\"text-align: right;\">\n",
       "      <th></th>\n",
       "      <th>Column Name</th>\n",
       "      <th>Unique</th>\n",
       "      <th>Data Type</th>\n",
       "      <th>Memory Usage</th>\n",
       "    </tr>\n",
       "  </thead>\n",
       "  <tbody>\n",
       "    <tr>\n",
       "      <th>0</th>\n",
       "      <td>tripduration</td>\n",
       "      <td>10874</td>\n",
       "      <td>int64</td>\n",
       "      <td>2694544</td>\n",
       "    </tr>\n",
       "    <tr>\n",
       "      <th>1</th>\n",
       "      <td>starttime</td>\n",
       "      <td>323351</td>\n",
       "      <td>datetime64[ns]</td>\n",
       "      <td>2694544</td>\n",
       "    </tr>\n",
       "    <tr>\n",
       "      <th>2</th>\n",
       "      <td>stoptime</td>\n",
       "      <td>323348</td>\n",
       "      <td>datetime64[ns]</td>\n",
       "      <td>2694544</td>\n",
       "    </tr>\n",
       "    <tr>\n",
       "      <th>3</th>\n",
       "      <td>start station id</td>\n",
       "      <td>52</td>\n",
       "      <td>int64</td>\n",
       "      <td>2694544</td>\n",
       "    </tr>\n",
       "    <tr>\n",
       "      <th>4</th>\n",
       "      <td>start station name</td>\n",
       "      <td>52</td>\n",
       "      <td>category</td>\n",
       "      <td>342693</td>\n",
       "    </tr>\n",
       "    <tr>\n",
       "      <th>5</th>\n",
       "      <td>start station latitude</td>\n",
       "      <td>52</td>\n",
       "      <td>float64</td>\n",
       "      <td>2694544</td>\n",
       "    </tr>\n",
       "    <tr>\n",
       "      <th>6</th>\n",
       "      <td>start station longitude</td>\n",
       "      <td>52</td>\n",
       "      <td>float64</td>\n",
       "      <td>2694544</td>\n",
       "    </tr>\n",
       "    <tr>\n",
       "      <th>7</th>\n",
       "      <td>end station id</td>\n",
       "      <td>131</td>\n",
       "      <td>int64</td>\n",
       "      <td>2694544</td>\n",
       "    </tr>\n",
       "    <tr>\n",
       "      <th>8</th>\n",
       "      <td>end station name</td>\n",
       "      <td>131</td>\n",
       "      <td>category</td>\n",
       "      <td>687712</td>\n",
       "    </tr>\n",
       "    <tr>\n",
       "      <th>9</th>\n",
       "      <td>end station latitude</td>\n",
       "      <td>131</td>\n",
       "      <td>float64</td>\n",
       "      <td>2694544</td>\n",
       "    </tr>\n",
       "    <tr>\n",
       "      <th>10</th>\n",
       "      <td>end station longitude</td>\n",
       "      <td>131</td>\n",
       "      <td>float64</td>\n",
       "      <td>2694544</td>\n",
       "    </tr>\n",
       "    <tr>\n",
       "      <th>11</th>\n",
       "      <td>bikeid</td>\n",
       "      <td>1846</td>\n",
       "      <td>category</td>\n",
       "      <td>754588</td>\n",
       "    </tr>\n",
       "    <tr>\n",
       "      <th>12</th>\n",
       "      <td>usertype</td>\n",
       "      <td>2</td>\n",
       "      <td>category</td>\n",
       "      <td>337170</td>\n",
       "    </tr>\n",
       "    <tr>\n",
       "      <th>13</th>\n",
       "      <td>birth year</td>\n",
       "      <td>70</td>\n",
       "      <td>int64</td>\n",
       "      <td>2694544</td>\n",
       "    </tr>\n",
       "    <tr>\n",
       "      <th>14</th>\n",
       "      <td>gender</td>\n",
       "      <td>3</td>\n",
       "      <td>category</td>\n",
       "      <td>337062</td>\n",
       "    </tr>\n",
       "  </tbody>\n",
       "</table>\n",
       "</div>"
      ],
      "text/plain": [
       "                Column Name  Unique       Data Type  Memory Usage\n",
       "0              tripduration   10874           int64       2694544\n",
       "1                 starttime  323351  datetime64[ns]       2694544\n",
       "2                  stoptime  323348  datetime64[ns]       2694544\n",
       "3          start station id      52           int64       2694544\n",
       "4        start station name      52        category        342693\n",
       "5    start station latitude      52         float64       2694544\n",
       "6   start station longitude      52         float64       2694544\n",
       "7            end station id     131           int64       2694544\n",
       "8          end station name     131        category        687712\n",
       "9      end station latitude     131         float64       2694544\n",
       "10    end station longitude     131         float64       2694544\n",
       "11                   bikeid    1846        category        754588\n",
       "12                 usertype       2        category        337170\n",
       "13               birth year      70           int64       2694544\n",
       "14                   gender       3        category        337062"
      ]
     },
     "execution_count": 12,
     "metadata": {},
     "output_type": "execute_result"
    }
   ],
   "source": [
    "#    \n",
    "pd.DataFrame.from_records([(col, df[col].nunique(), df[col].dtype, df[col].memory_usage(deep=True) )  for col in df.columns],\n",
    "    columns=['Column Name', 'Unique', 'Data Type','Memory Usage'])\n"
   ]
  },
  {
   "cell_type": "code",
   "execution_count": 13,
   "id": "cd4ea39f",
   "metadata": {},
   "outputs": [
    {
     "data": {
      "text/plain": [
       "<bound method NDFrame.head of         tripduration               starttime                stoptime  \\\n",
       "0                226 2020-01-01 00:04:50.192 2020-01-01 00:08:37.037   \n",
       "1                377 2020-01-01 00:16:01.670 2020-01-01 00:22:19.080   \n",
       "2                288 2020-01-01 00:17:33.877 2020-01-01 00:22:22.442   \n",
       "3                435 2020-01-01 00:32:05.902 2020-01-01 00:39:21.066   \n",
       "4                231 2020-01-01 00:46:19.678 2020-01-01 00:50:11.344   \n",
       "...              ...                     ...                     ...   \n",
       "336797          1750 2020-12-31 23:07:44.003 2020-12-31 23:36:54.471   \n",
       "336798          1519 2020-12-31 23:18:00.263 2020-12-31 23:43:19.859   \n",
       "336799          1761 2020-12-31 23:31:09.462 2021-01-01 00:00:31.329   \n",
       "336800           637 2020-12-31 23:35:45.464 2020-12-31 23:46:22.730   \n",
       "336801          1607 2020-12-31 23:48:34.575 2021-01-01 00:15:22.309   \n",
       "\n",
       "        start station id start station name  start station latitude  \\\n",
       "0                   3186      Grove St PATH               40.719586   \n",
       "1                   3186      Grove St PATH               40.719586   \n",
       "2                   3186      Grove St PATH               40.719586   \n",
       "3                   3195            Sip Ave               40.730897   \n",
       "4                   3186      Grove St PATH               40.719586   \n",
       "...                  ...                ...                     ...   \n",
       "336797              3199       Newport Pkwy               40.728745   \n",
       "336798              3184        Paulus Hook               40.714145   \n",
       "336799              3195            Sip Ave               40.730897   \n",
       "336800              3681           Grand St               40.715178   \n",
       "336801              3267       Morris Canal               40.712419   \n",
       "\n",
       "        start station longitude  end station id  end station name  \\\n",
       "0                    -74.043117            3211        Newark Ave   \n",
       "1                    -74.043117            3269   Brunswick & 6th   \n",
       "2                    -74.043117            3269   Brunswick & 6th   \n",
       "3                    -74.063913            3280       Astor Place   \n",
       "4                    -74.043117            3276  Marin Light Rail   \n",
       "...                         ...             ...               ...   \n",
       "336797               -74.032108            3199      Newport Pkwy   \n",
       "336798               -74.033552            3195           Sip Ave   \n",
       "336799               -74.063913            3270   Jersey & 6th St   \n",
       "336800               -74.037683            3199      Newport Pkwy   \n",
       "336801               -74.038526            3267      Morris Canal   \n",
       "\n",
       "        end station latitude  end station longitude bikeid    usertype  \\\n",
       "0                  40.721525             -74.046305  29444  Subscriber   \n",
       "1                  40.726012             -74.050389  26305  Subscriber   \n",
       "2                  40.726012             -74.050389  29268    Customer   \n",
       "3                  40.719282             -74.071262  29278    Customer   \n",
       "4                  40.714584             -74.042817  29276  Subscriber   \n",
       "...                      ...                    ...    ...         ...   \n",
       "336797             40.728745             -74.032108  40440    Customer   \n",
       "336798             40.730897             -74.063913  46340    Customer   \n",
       "336799             40.725289             -74.045572  40907    Customer   \n",
       "336800             40.728745             -74.032108  42250    Customer   \n",
       "336801             40.712419             -74.038526  48742  Subscriber   \n",
       "\n",
       "        birth year gender  \n",
       "0             1984      2  \n",
       "1             1989      2  \n",
       "2             1989      1  \n",
       "3             1969      0  \n",
       "4             1983      2  \n",
       "...            ...    ...  \n",
       "336797        1969      0  \n",
       "336798        1969      0  \n",
       "336799        1998      1  \n",
       "336800        1969      0  \n",
       "336801        1982      1  \n",
       "\n",
       "[336802 rows x 15 columns]>"
      ]
     },
     "execution_count": 13,
     "metadata": {},
     "output_type": "execute_result"
    }
   ],
   "source": [
    "#   Copy only the columns needed into a new DataFrame.\n",
    "df = df[['tripduration', 'starttime', 'stoptime','start station id', 'start station name', 'start station latitude',\n",
    "             'start station longitude', 'end station id', 'end station name', 'end station latitude', 'end station longitude',\n",
    "             'bikeid', 'usertype', 'birth year', 'gender']]\n",
    "df.head\n"
   ]
  },
  {
   "cell_type": "code",
   "execution_count": 14,
   "id": "209c42fd",
   "metadata": {},
   "outputs": [],
   "source": [
    "#   Convert \"tripminutes\" from seconds to minutes  \n",
    "df['tripminutes'] = df['tripduration'] // 60 \n"
   ]
  },
  {
   "cell_type": "code",
   "execution_count": 15,
   "id": "ce4de3e2",
   "metadata": {},
   "outputs": [
    {
     "name": "stdout",
     "output_type": "stream",
     "text": [
      "Requirement already satisfied: geopy in c:\\users\\mikem\\anaconda3\\lib\\site-packages (2.2.0)\n",
      "Requirement already satisfied: geographiclib<2,>=1.49 in c:\\users\\mikem\\anaconda3\\lib\\site-packages (from geopy) (1.52)\n"
     ]
    }
   ],
   "source": [
    "#   Create \"distance\" column \n",
    "#   Install geopy\n",
    "!pip install geopy\n"
   ]
  },
  {
   "cell_type": "code",
   "execution_count": 16,
   "id": "718489a4",
   "metadata": {},
   "outputs": [
    {
     "name": "stdout",
     "output_type": "stream",
     "text": [
      "173.5818455248231\n"
     ]
    }
   ],
   "source": [
    "import geopy.distance\n",
    "\n",
    "coords_1 = (52.2296756, 21.0122287)\n",
    "coords_2 = (52.406374, 16.9251681)\n",
    "\n",
    "print(geopy.distance.distance(coords_1, coords_2).miles)\n"
   ]
  },
  {
   "cell_type": "code",
   "execution_count": 17,
   "id": "8139be63",
   "metadata": {},
   "outputs": [],
   "source": [
    "def get_distance(row):\n",
    "    coords_1 = (row[\"start station latitude\"], row[\"start station longitude\"])\n",
    "    coords_2 = (row[\"end station latitude\"],row[\"end station longitude\"])\n",
    "    return geopy.distance.distance(coords_1, coords_2).miles\n"
   ]
  },
  {
   "cell_type": "code",
   "execution_count": 18,
   "id": "0d7bd794",
   "metadata": {},
   "outputs": [],
   "source": [
    "df[\"tripdistance (miles)\"] = df.apply(get_distance, axis=1)\n"
   ]
  },
  {
   "cell_type": "code",
   "execution_count": 19,
   "id": "63bef7a8",
   "metadata": {},
   "outputs": [
    {
     "data": {
      "text/html": [
       "<div>\n",
       "<style scoped>\n",
       "    .dataframe tbody tr th:only-of-type {\n",
       "        vertical-align: middle;\n",
       "    }\n",
       "\n",
       "    .dataframe tbody tr th {\n",
       "        vertical-align: top;\n",
       "    }\n",
       "\n",
       "    .dataframe thead th {\n",
       "        text-align: right;\n",
       "    }\n",
       "</style>\n",
       "<table border=\"1\" class=\"dataframe\">\n",
       "  <thead>\n",
       "    <tr style=\"text-align: right;\">\n",
       "      <th></th>\n",
       "      <th>tripduration</th>\n",
       "      <th>starttime</th>\n",
       "      <th>stoptime</th>\n",
       "      <th>start station id</th>\n",
       "      <th>start station name</th>\n",
       "      <th>start station latitude</th>\n",
       "      <th>start station longitude</th>\n",
       "      <th>end station id</th>\n",
       "      <th>end station name</th>\n",
       "      <th>end station latitude</th>\n",
       "      <th>end station longitude</th>\n",
       "      <th>bikeid</th>\n",
       "      <th>usertype</th>\n",
       "      <th>birth year</th>\n",
       "      <th>gender</th>\n",
       "      <th>tripminutes</th>\n",
       "      <th>tripdistance (miles)</th>\n",
       "    </tr>\n",
       "  </thead>\n",
       "  <tbody>\n",
       "    <tr>\n",
       "      <th>0</th>\n",
       "      <td>226</td>\n",
       "      <td>2020-01-01 00:04:50.192</td>\n",
       "      <td>2020-01-01 00:08:37.037</td>\n",
       "      <td>3186</td>\n",
       "      <td>Grove St PATH</td>\n",
       "      <td>40.719586</td>\n",
       "      <td>-74.043117</td>\n",
       "      <td>3211</td>\n",
       "      <td>Newark Ave</td>\n",
       "      <td>40.721525</td>\n",
       "      <td>-74.046305</td>\n",
       "      <td>29444</td>\n",
       "      <td>Subscriber</td>\n",
       "      <td>1984</td>\n",
       "      <td>2</td>\n",
       "      <td>3</td>\n",
       "      <td>0.214238</td>\n",
       "    </tr>\n",
       "    <tr>\n",
       "      <th>1</th>\n",
       "      <td>377</td>\n",
       "      <td>2020-01-01 00:16:01.670</td>\n",
       "      <td>2020-01-01 00:22:19.080</td>\n",
       "      <td>3186</td>\n",
       "      <td>Grove St PATH</td>\n",
       "      <td>40.719586</td>\n",
       "      <td>-74.043117</td>\n",
       "      <td>3269</td>\n",
       "      <td>Brunswick &amp; 6th</td>\n",
       "      <td>40.726012</td>\n",
       "      <td>-74.050389</td>\n",
       "      <td>26305</td>\n",
       "      <td>Subscriber</td>\n",
       "      <td>1989</td>\n",
       "      <td>2</td>\n",
       "      <td>6</td>\n",
       "      <td>0.585072</td>\n",
       "    </tr>\n",
       "    <tr>\n",
       "      <th>2</th>\n",
       "      <td>288</td>\n",
       "      <td>2020-01-01 00:17:33.877</td>\n",
       "      <td>2020-01-01 00:22:22.442</td>\n",
       "      <td>3186</td>\n",
       "      <td>Grove St PATH</td>\n",
       "      <td>40.719586</td>\n",
       "      <td>-74.043117</td>\n",
       "      <td>3269</td>\n",
       "      <td>Brunswick &amp; 6th</td>\n",
       "      <td>40.726012</td>\n",
       "      <td>-74.050389</td>\n",
       "      <td>29268</td>\n",
       "      <td>Customer</td>\n",
       "      <td>1989</td>\n",
       "      <td>1</td>\n",
       "      <td>4</td>\n",
       "      <td>0.585072</td>\n",
       "    </tr>\n",
       "    <tr>\n",
       "      <th>3</th>\n",
       "      <td>435</td>\n",
       "      <td>2020-01-01 00:32:05.902</td>\n",
       "      <td>2020-01-01 00:39:21.066</td>\n",
       "      <td>3195</td>\n",
       "      <td>Sip Ave</td>\n",
       "      <td>40.730897</td>\n",
       "      <td>-74.063913</td>\n",
       "      <td>3280</td>\n",
       "      <td>Astor Place</td>\n",
       "      <td>40.719282</td>\n",
       "      <td>-74.071262</td>\n",
       "      <td>29278</td>\n",
       "      <td>Customer</td>\n",
       "      <td>1969</td>\n",
       "      <td>0</td>\n",
       "      <td>7</td>\n",
       "      <td>0.889481</td>\n",
       "    </tr>\n",
       "    <tr>\n",
       "      <th>4</th>\n",
       "      <td>231</td>\n",
       "      <td>2020-01-01 00:46:19.678</td>\n",
       "      <td>2020-01-01 00:50:11.344</td>\n",
       "      <td>3186</td>\n",
       "      <td>Grove St PATH</td>\n",
       "      <td>40.719586</td>\n",
       "      <td>-74.043117</td>\n",
       "      <td>3276</td>\n",
       "      <td>Marin Light Rail</td>\n",
       "      <td>40.714584</td>\n",
       "      <td>-74.042817</td>\n",
       "      <td>29276</td>\n",
       "      <td>Subscriber</td>\n",
       "      <td>1983</td>\n",
       "      <td>2</td>\n",
       "      <td>3</td>\n",
       "      <td>0.345515</td>\n",
       "    </tr>\n",
       "    <tr>\n",
       "      <th>...</th>\n",
       "      <td>...</td>\n",
       "      <td>...</td>\n",
       "      <td>...</td>\n",
       "      <td>...</td>\n",
       "      <td>...</td>\n",
       "      <td>...</td>\n",
       "      <td>...</td>\n",
       "      <td>...</td>\n",
       "      <td>...</td>\n",
       "      <td>...</td>\n",
       "      <td>...</td>\n",
       "      <td>...</td>\n",
       "      <td>...</td>\n",
       "      <td>...</td>\n",
       "      <td>...</td>\n",
       "      <td>...</td>\n",
       "      <td>...</td>\n",
       "    </tr>\n",
       "    <tr>\n",
       "      <th>336797</th>\n",
       "      <td>1750</td>\n",
       "      <td>2020-12-31 23:07:44.003</td>\n",
       "      <td>2020-12-31 23:36:54.471</td>\n",
       "      <td>3199</td>\n",
       "      <td>Newport Pkwy</td>\n",
       "      <td>40.728745</td>\n",
       "      <td>-74.032108</td>\n",
       "      <td>3199</td>\n",
       "      <td>Newport Pkwy</td>\n",
       "      <td>40.728745</td>\n",
       "      <td>-74.032108</td>\n",
       "      <td>40440</td>\n",
       "      <td>Customer</td>\n",
       "      <td>1969</td>\n",
       "      <td>0</td>\n",
       "      <td>29</td>\n",
       "      <td>0.000000</td>\n",
       "    </tr>\n",
       "    <tr>\n",
       "      <th>336798</th>\n",
       "      <td>1519</td>\n",
       "      <td>2020-12-31 23:18:00.263</td>\n",
       "      <td>2020-12-31 23:43:19.859</td>\n",
       "      <td>3184</td>\n",
       "      <td>Paulus Hook</td>\n",
       "      <td>40.714145</td>\n",
       "      <td>-74.033552</td>\n",
       "      <td>3195</td>\n",
       "      <td>Sip Ave</td>\n",
       "      <td>40.730897</td>\n",
       "      <td>-74.063913</td>\n",
       "      <td>46340</td>\n",
       "      <td>Customer</td>\n",
       "      <td>1969</td>\n",
       "      <td>0</td>\n",
       "      <td>25</td>\n",
       "      <td>1.968895</td>\n",
       "    </tr>\n",
       "    <tr>\n",
       "      <th>336799</th>\n",
       "      <td>1761</td>\n",
       "      <td>2020-12-31 23:31:09.462</td>\n",
       "      <td>2021-01-01 00:00:31.329</td>\n",
       "      <td>3195</td>\n",
       "      <td>Sip Ave</td>\n",
       "      <td>40.730897</td>\n",
       "      <td>-74.063913</td>\n",
       "      <td>3270</td>\n",
       "      <td>Jersey &amp; 6th St</td>\n",
       "      <td>40.725289</td>\n",
       "      <td>-74.045572</td>\n",
       "      <td>40907</td>\n",
       "      <td>Customer</td>\n",
       "      <td>1998</td>\n",
       "      <td>1</td>\n",
       "      <td>29</td>\n",
       "      <td>1.037635</td>\n",
       "    </tr>\n",
       "    <tr>\n",
       "      <th>336800</th>\n",
       "      <td>637</td>\n",
       "      <td>2020-12-31 23:35:45.464</td>\n",
       "      <td>2020-12-31 23:46:22.730</td>\n",
       "      <td>3681</td>\n",
       "      <td>Grand St</td>\n",
       "      <td>40.715178</td>\n",
       "      <td>-74.037683</td>\n",
       "      <td>3199</td>\n",
       "      <td>Newport Pkwy</td>\n",
       "      <td>40.728745</td>\n",
       "      <td>-74.032108</td>\n",
       "      <td>42250</td>\n",
       "      <td>Customer</td>\n",
       "      <td>1969</td>\n",
       "      <td>0</td>\n",
       "      <td>10</td>\n",
       "      <td>0.980849</td>\n",
       "    </tr>\n",
       "    <tr>\n",
       "      <th>336801</th>\n",
       "      <td>1607</td>\n",
       "      <td>2020-12-31 23:48:34.575</td>\n",
       "      <td>2021-01-01 00:15:22.309</td>\n",
       "      <td>3267</td>\n",
       "      <td>Morris Canal</td>\n",
       "      <td>40.712419</td>\n",
       "      <td>-74.038526</td>\n",
       "      <td>3267</td>\n",
       "      <td>Morris Canal</td>\n",
       "      <td>40.712419</td>\n",
       "      <td>-74.038526</td>\n",
       "      <td>48742</td>\n",
       "      <td>Subscriber</td>\n",
       "      <td>1982</td>\n",
       "      <td>1</td>\n",
       "      <td>26</td>\n",
       "      <td>0.000000</td>\n",
       "    </tr>\n",
       "  </tbody>\n",
       "</table>\n",
       "<p>336802 rows × 17 columns</p>\n",
       "</div>"
      ],
      "text/plain": [
       "        tripduration               starttime                stoptime  \\\n",
       "0                226 2020-01-01 00:04:50.192 2020-01-01 00:08:37.037   \n",
       "1                377 2020-01-01 00:16:01.670 2020-01-01 00:22:19.080   \n",
       "2                288 2020-01-01 00:17:33.877 2020-01-01 00:22:22.442   \n",
       "3                435 2020-01-01 00:32:05.902 2020-01-01 00:39:21.066   \n",
       "4                231 2020-01-01 00:46:19.678 2020-01-01 00:50:11.344   \n",
       "...              ...                     ...                     ...   \n",
       "336797          1750 2020-12-31 23:07:44.003 2020-12-31 23:36:54.471   \n",
       "336798          1519 2020-12-31 23:18:00.263 2020-12-31 23:43:19.859   \n",
       "336799          1761 2020-12-31 23:31:09.462 2021-01-01 00:00:31.329   \n",
       "336800           637 2020-12-31 23:35:45.464 2020-12-31 23:46:22.730   \n",
       "336801          1607 2020-12-31 23:48:34.575 2021-01-01 00:15:22.309   \n",
       "\n",
       "        start station id start station name  start station latitude  \\\n",
       "0                   3186      Grove St PATH               40.719586   \n",
       "1                   3186      Grove St PATH               40.719586   \n",
       "2                   3186      Grove St PATH               40.719586   \n",
       "3                   3195            Sip Ave               40.730897   \n",
       "4                   3186      Grove St PATH               40.719586   \n",
       "...                  ...                ...                     ...   \n",
       "336797              3199       Newport Pkwy               40.728745   \n",
       "336798              3184        Paulus Hook               40.714145   \n",
       "336799              3195            Sip Ave               40.730897   \n",
       "336800              3681           Grand St               40.715178   \n",
       "336801              3267       Morris Canal               40.712419   \n",
       "\n",
       "        start station longitude  end station id  end station name  \\\n",
       "0                    -74.043117            3211        Newark Ave   \n",
       "1                    -74.043117            3269   Brunswick & 6th   \n",
       "2                    -74.043117            3269   Brunswick & 6th   \n",
       "3                    -74.063913            3280       Astor Place   \n",
       "4                    -74.043117            3276  Marin Light Rail   \n",
       "...                         ...             ...               ...   \n",
       "336797               -74.032108            3199      Newport Pkwy   \n",
       "336798               -74.033552            3195           Sip Ave   \n",
       "336799               -74.063913            3270   Jersey & 6th St   \n",
       "336800               -74.037683            3199      Newport Pkwy   \n",
       "336801               -74.038526            3267      Morris Canal   \n",
       "\n",
       "        end station latitude  end station longitude bikeid    usertype  \\\n",
       "0                  40.721525             -74.046305  29444  Subscriber   \n",
       "1                  40.726012             -74.050389  26305  Subscriber   \n",
       "2                  40.726012             -74.050389  29268    Customer   \n",
       "3                  40.719282             -74.071262  29278    Customer   \n",
       "4                  40.714584             -74.042817  29276  Subscriber   \n",
       "...                      ...                    ...    ...         ...   \n",
       "336797             40.728745             -74.032108  40440    Customer   \n",
       "336798             40.730897             -74.063913  46340    Customer   \n",
       "336799             40.725289             -74.045572  40907    Customer   \n",
       "336800             40.728745             -74.032108  42250    Customer   \n",
       "336801             40.712419             -74.038526  48742  Subscriber   \n",
       "\n",
       "        birth year gender  tripminutes  tripdistance (miles)  \n",
       "0             1984      2            3              0.214238  \n",
       "1             1989      2            6              0.585072  \n",
       "2             1989      1            4              0.585072  \n",
       "3             1969      0            7              0.889481  \n",
       "4             1983      2            3              0.345515  \n",
       "...            ...    ...          ...                   ...  \n",
       "336797        1969      0           29              0.000000  \n",
       "336798        1969      0           25              1.968895  \n",
       "336799        1998      1           29              1.037635  \n",
       "336800        1969      0           10              0.980849  \n",
       "336801        1982      1           26              0.000000  \n",
       "\n",
       "[336802 rows x 17 columns]"
      ]
     },
     "execution_count": 19,
     "metadata": {},
     "output_type": "execute_result"
    }
   ],
   "source": [
    "df\n"
   ]
  },
  {
   "cell_type": "code",
   "execution_count": 34,
   "id": "8f2de151",
   "metadata": {},
   "outputs": [
    {
     "name": "stdout",
     "output_type": "stream",
     "text": [
      "<class 'pandas.core.frame.DataFrame'>\n",
      "RangeIndex: 336802 entries, 0 to 336801\n",
      "Data columns (total 22 columns):\n",
      " #   Column                   Non-Null Count   Dtype         \n",
      "---  ------                   --------------   -----         \n",
      " 0   tripduration             336802 non-null  int64         \n",
      " 1   starttime                336802 non-null  datetime64[ns]\n",
      " 2   stoptime                 336802 non-null  datetime64[ns]\n",
      " 3   start station id         336802 non-null  int64         \n",
      " 4   start station name       336802 non-null  category      \n",
      " 5   start station latitude   336802 non-null  float64       \n",
      " 6   start station longitude  336802 non-null  float64       \n",
      " 7   end station id           336802 non-null  int64         \n",
      " 8   end station name         336802 non-null  category      \n",
      " 9   end station latitude     336802 non-null  float64       \n",
      " 10  end station longitude    336802 non-null  float64       \n",
      " 11  bikeid                   336802 non-null  category      \n",
      " 12  usertype                 336802 non-null  category      \n",
      " 13  birth year               336802 non-null  int64         \n",
      " 14  gender                   336802 non-null  category      \n",
      " 15  tripminutes              336802 non-null  int64         \n",
      " 16  tripdistance (miles)     336802 non-null  float64       \n",
      " 17  start hour               336802 non-null  category      \n",
      " 18  start day                336802 non-null  category      \n",
      " 19  weekday                  336802 non-null  category      \n",
      " 20  day                      336802 non-null  object        \n",
      " 21  age                      284563 non-null  float64       \n",
      "dtypes: category(8), datetime64[ns](2), float64(6), int64(5), object(1)\n",
      "memory usage: 39.3+ MB\n"
     ]
    }
   ],
   "source": [
    "#   Get the info for the dataframe to confirm that what we have is complete and consistent\n",
    "df.info()\n"
   ]
  },
  {
   "cell_type": "code",
   "execution_count": 20,
   "id": "bbb7b71b",
   "metadata": {},
   "outputs": [],
   "source": [
    "#   Save the df as a csv for Tableau visualisation\n",
    "df.to_csv('combined-2020.csv', index=False)\n"
   ]
  },
  {
   "cell_type": "code",
   "execution_count": 21,
   "id": "707c6ee2",
   "metadata": {},
   "outputs": [
    {
     "data": {
      "image/png": "[encoded data removed]",
      "text/plain": [
       "<Figure size 720x360 with 1 Axes>"
      ]
     },
     "metadata": {
      "needs_background": "light"
     },
     "output_type": "display_data"
    }
   ],
   "source": [
    "#   \n",
    "sns.displot(data=df,x=\"tripminutes\" , bins=range(1,61) , aspect=10/5  ) ;\n"
   ]
  },
  {
   "cell_type": "code",
   "execution_count": 22,
   "id": "3c59cff1",
   "metadata": {},
   "outputs": [],
   "source": [
    "#   \n",
    "df['start hour']=df['starttime'].dt.hour.astype('category')\n",
    "df['start day']=df['starttime'].dt.day.astype('category')\n",
    "df['weekday']=df['starttime'].dt.weekday.astype('category')\n"
   ]
  },
  {
   "cell_type": "code",
   "execution_count": 23,
   "id": "4e20f1cb",
   "metadata": {},
   "outputs": [
    {
     "data": {
      "image/png": "[encoded data removed]",
      "text/plain": [
       "<Figure size 864x360 with 1 Axes>"
      ]
     },
     "metadata": {
      "needs_background": "light"
     },
     "output_type": "display_data"
    }
   ],
   "source": [
    "#   \n",
    "plt.figure(figsize=(12,5))\n",
    "sns.countplot(data=df, x=\"start hour\" ) ;\n"
   ]
  },
  {
   "cell_type": "code",
   "execution_count": 24,
   "id": "c09cbc02",
   "metadata": {},
   "outputs": [
    {
     "data": {
      "image/png": "[encoded data removed]",
      "text/plain": [
       "<Figure size 864x432 with 1 Axes>"
      ]
     },
     "metadata": {
      "needs_background": "light"
     },
     "output_type": "display_data"
    }
   ],
   "source": [
    "#   \n",
    "df['day'] = [\"Weekday\" if d <= 4  else \"Weekend\" for d in df['weekday']] # weekday values start with 0=Monday\n",
    "plt.figure(figsize=(12,6))\n",
    "sns.set_palette(\"Set2\")\n",
    "sns.countplot(data=df,x=\"start day\" , hue='day' , dodge=False  ) ;\n"
   ]
  },
  {
   "cell_type": "code",
   "execution_count": 25,
   "id": "0e147ba6",
   "metadata": {},
   "outputs": [],
   "source": [
    "#     \n",
    "startat = df.groupby(\"start station name\")['start station name'].count().nlargest(20) \n",
    "startsstation = df['start station name'].value_counts()[:20]\n"
   ]
  },
  {
   "cell_type": "code",
   "execution_count": 26,
   "id": "1147f4ba",
   "metadata": {},
   "outputs": [
    {
     "data": {
      "image/png": "[encoded data removed]",
      "text/plain": [
       "<Figure size 864x720 with 1 Axes>"
      ]
     },
     "metadata": {
      "needs_background": "light"
     },
     "output_type": "display_data"
    }
   ],
   "source": [
    "#      \n",
    "plt.figure(figsize=(12,10))\n",
    "sns.barplot( x=startsstation.values , y=list(startsstation.index),  orient=\"h\"  ) ;\n"
   ]
  },
  {
   "cell_type": "code",
   "execution_count": 27,
   "id": "c452ff5a",
   "metadata": {},
   "outputs": [
    {
     "data": {
      "image/png": "[encoded data removed]",
      "text/plain": [
       "<Figure size 720x360 with 1 Axes>"
      ]
     },
     "metadata": {
      "needs_background": "light"
     },
     "output_type": "display_data"
    }
   ],
   "source": [
    "#   \n",
    "sns.displot(data=df,x=\"birth year\" , bins=range(1946,2004),  aspect=10/5) ;\n"
   ]
  },
  {
   "cell_type": "code",
   "execution_count": 28,
   "id": "6df55f51",
   "metadata": {},
   "outputs": [
    {
     "data": {
      "image/png": "[encoded data removed]",
      "text/plain": [
       "<Figure size 809.125x360 with 1 Axes>"
      ]
     },
     "metadata": {
      "needs_background": "light"
     },
     "output_type": "display_data"
    }
   ],
   "source": [
    "#      \n",
    "sns.displot(data=df,x=\"birth year\", bins=range(1946,2004), hue='usertype', multiple='stack',  aspect=10/5) ;\n"
   ]
  },
  {
   "cell_type": "code",
   "execution_count": 29,
   "id": "cefc7ab1",
   "metadata": {},
   "outputs": [
    {
     "data": {
      "image/png": "[encoded data removed]",
      "text/plain": [
       "<Figure size 763.5x360 with 1 Axes>"
      ]
     },
     "metadata": {
      "needs_background": "light"
     },
     "output_type": "display_data"
    }
   ],
   "source": [
    "#   \n",
    "sns.displot(data=df,x=\"birth year\" , bins=range(1946,2004), hue='gender',  multiple='stack', aspect=10/5) ;\n"
   ]
  },
  {
   "cell_type": "code",
   "execution_count": 30,
   "id": "70ba5e53",
   "metadata": {},
   "outputs": [
    {
     "data": {
      "text/plain": [
       "count    284563.000000\n",
       "mean         36.567224\n",
       "std          10.569896\n",
       "min          16.000000\n",
       "25%          29.000000\n",
       "50%          34.000000\n",
       "75%          42.000000\n",
       "max          74.000000\n",
       "Name: age, dtype: float64"
      ]
     },
     "execution_count": 30,
     "metadata": {},
     "output_type": "execute_result"
    }
   ],
   "source": [
    "#   \n",
    "skip = (df['gender'] == 0) | (df['birth year'] < 1946) \n",
    "df['age'] = (2020 - df['birth year']).mask(skip,None)\n",
    "df['age'].describe()\n"
   ]
  },
  {
   "cell_type": "code",
   "execution_count": 31,
   "id": "5ff40d70",
   "metadata": {},
   "outputs": [
    {
     "data": {
      "image/png": "[encoded data removed]",
      "text/plain": [
       "<Figure size 763.5x360 with 1 Axes>"
      ]
     },
     "metadata": {
      "needs_background": "light"
     },
     "output_type": "display_data"
    }
   ],
   "source": [
    "#   \n",
    "sns.displot(data=df, x='age', hue='gender', multiple='stack',  aspect=10/5) ;\n"
   ]
  },
  {
   "cell_type": "code",
   "execution_count": 32,
   "id": "562eb251",
   "metadata": {},
   "outputs": [],
   "source": [
    "#   \n",
    "#df.to_parquet('202003-citibike-tripdata.parquet') \n"
   ]
  },
  {
   "cell_type": "code",
   "execution_count": 33,
   "id": "ba5f752e",
   "metadata": {},
   "outputs": [
    {
     "name": "stdout",
     "output_type": "stream",
     "text": [
      "2022-04-05 16:17:33.587310\n"
     ]
    }
   ],
   "source": [
    "#    Print end time\n",
    "print(datetime.datetime.now())\n"
   ]
  },
  {
   "cell_type": "code",
   "execution_count": null,
   "id": "3fcf9d85",
   "metadata": {},
   "outputs": [],
   "source": []
  }
 ],
 "metadata": {
  "kernelspec": {
   "display_name": "Python 3 (ipykernel)",
   "language": "python",
   "name": "python3"
  },
  "language_info": {
   "codemirror_mode": {
    "name": "ipython",
    "version": 3
   },
   "file_extension": ".py",
   "mimetype": "text/x-python",
   "name": "python",
   "nbconvert_exporter": "python",
   "pygments_lexer": "ipython3",
   "version": "3.9.7"
  }
 },
 "nbformat": 4,
 "nbformat_minor": 5
}
